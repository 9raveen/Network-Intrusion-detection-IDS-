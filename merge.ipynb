{
 "cells": [
  {
   "cell_type": "code",
   "execution_count": 1,
   "metadata": {},
   "outputs": [
    {
     "name": "stdout",
     "output_type": "stream",
     "text": [
      "Loaded Friday-WorkingHours-Afternoon-DDos.pcap_ISCX.csv - Shape: (225745, 79)\n",
      "Loaded Friday-WorkingHours-Afternoon-PortScan.pcap_ISCX.csv - Shape: (286467, 79)\n",
      "Loaded Friday-WorkingHours-Morning.pcap_ISCX.csv - Shape: (191033, 79)\n",
      "Loaded Monday-WorkingHours.pcap_ISCX.csv - Shape: (529918, 79)\n",
      "Loaded Thursday-WorkingHours-Afternoon-Infilteration.pcap_ISCX.csv - Shape: (288602, 79)\n",
      "Loaded Thursday-WorkingHours-Morning-WebAttacks.pcap_ISCX.csv - Shape: (170366, 79)\n",
      "Loaded Tuesday-WorkingHours.pcap_ISCX.csv - Shape: (445909, 79)\n",
      "Loaded Wednesday-workingHours.pcap_ISCX.csv - Shape: (692703, 79)\n",
      "\n",
      " Merged dataset shape: (2830743, 79)\n",
      "Raw merged dataset saved as 'merged_CIC_IDS2017.csv'\n"
     ]
    }
   ],
   "source": [
    "import pandas as pd\n",
    "import os\n",
    "\n",
    "data_folder = r\"C:\\Users\\vp532\\OneDrive\\Desktop\\Network Intrusion\"  \n",
    "\n",
    "# Get all CSV files in the folder\n",
    "csv_files = [f for f in os.listdir(data_folder) if f.endswith('.csv')]\n",
    "\n",
    "# Merge all CSVs\n",
    "df_list = []\n",
    "for file in csv_files:\n",
    "    file_path = os.path.join(data_folder, file)\n",
    "    temp_df = pd.read_csv(file_path, low_memory=False)\n",
    "    df_list.append(temp_df)\n",
    "    print(f\"Loaded {file} - Shape: {temp_df.shape}\")\n",
    "\n",
    "# Concatenate all datasets\n",
    "merged_df = pd.concat(df_list, ignore_index=True)\n",
    "print(f\"\\n Merged dataset shape: {merged_df.shape}\")\n",
    "\n",
    "# Save merged raw data\n",
    "merged_df.to_csv(\"merged_CIC_IDS2017.csv\", index=False)\n",
    "print(\"Raw merged dataset saved as 'merged_CIC_IDS2017.csv'\")\n"
   ]
  }
 ],
 "metadata": {
  "kernelspec": {
   "display_name": "Python 3",
   "language": "python",
   "name": "python3"
  },
  "language_info": {
   "codemirror_mode": {
    "name": "ipython",
    "version": 3
   },
   "file_extension": ".py",
   "mimetype": "text/x-python",
   "name": "python",
   "nbconvert_exporter": "python",
   "pygments_lexer": "ipython3",
   "version": "3.12.3"
  }
 },
 "nbformat": 4,
 "nbformat_minor": 2
}
